{
 "cells": [
  {
   "cell_type": "code",
   "execution_count": 285,
   "metadata": {},
   "outputs": [],
   "source": [
    "from pyspark import SparkContext\n",
    "sc =SparkContext.getOrCreate()\n",
    "rawData = sc.textFile('file.txt')"
   ]
  },
  {
   "cell_type": "code",
   "execution_count": 286,
   "metadata": {},
   "outputs": [
    {
     "data": {
      "text/plain": [
       "['The 2007 United States Air Force nuclear weapons incident occurred on 29–30 August 2007. Six AGM-129 ACM cruise missiles, each loaded with a W80-1 variable yield nuclear warhead, were mistakenly loaded onto a United States Air Force (USAF) B-52H heavy bomber at Minot Air Force Base in North Dakota and transported to Barksdale Air Force Base in Louisiana. The nuclear warheads in the missiles were supposed to have been removed before the missiles were taken from their storage bunker. The missiles with the nuclear warheads were not reported missing, and remained mounted to the aircraft at both Minot and Barksdale for 36 hours. During this period, the warheads were not protected by the various mandatory security precautions for nuclear weapons.',\n",
       " 'The incident was reported to the top levels of the United States military and referred to by observers as a Bent Spear incident, which indicates a nuclear weapon incident that is of significant concern but does not involve the immediate threat of nuclear war.',\n",
       " 'In response to the incident, the United States Department of Defense (DoD) and USAF conducted an investigation, the results of which were released on 19 October 2007. The investigation concluded that nuclear weapons handling standards and procedures had not been followed by numerous USAF personnel involved in the incident. As a result, four USAF commanders were relieved of their commands, numerous other USAF personnel were disciplined and/or decertified to perform certain types of sensitive duties, and further cruise missile transport missions from – and nuclear weapons operations at – Minot Air Force Base were suspended. In addition, the USAF issued new nuclear weapons handling instructions and procedures.',\n",
       " 'Separate investigations by the Defense Science Board and a USAF \"blue ribbon\" panel reported that concerns existed on the procedures and processes for handling nuclear weapons within the Department of Defense but did not find any failures with the security of United States nuclear weapons. Based on this and other incidents, on 5 June 2008, Secretary of the Air Force Michael Wynne and Chief of Staff of the Air Force General T Michael Moseley were asked for their resignations, which were given. In October 2008, in response to recommendations by a review committee, the USAF announced the creation of Air Force Global Strike Command to control all USAF nuclear bombers, missiles, and personnel.']"
      ]
     },
     "execution_count": 286,
     "metadata": {},
     "output_type": "execute_result"
    }
   ],
   "source": [
    "rawData.collect()"
   ]
  },
  {
   "cell_type": "code",
   "execution_count": 287,
   "metadata": {},
   "outputs": [],
   "source": [
    "df=rawData.flatMap(lambda x:x.split())\\\n",
    "    .map(lambda x:(x,1))\\\n",
    "    .reduceByKey(lambda a, b: a + b)\\\n",
    "    .sortByKey()"
   ]
  },
  {
   "cell_type": "code",
   "execution_count": 288,
   "metadata": {},
   "outputs": [
    {
     "data": {
      "text/plain": [
       "[('\"blue', 1), ('(DoD)', 1), ('(USAF)', 1)]"
      ]
     },
     "execution_count": 288,
     "metadata": {},
     "output_type": "execute_result"
    }
   ],
   "source": [
    "df.take(3)"
   ]
  },
  {
   "cell_type": "code",
   "execution_count": 260,
   "metadata": {},
   "outputs": [
    {
     "data": {
      "text/plain": [
       "[('\"blue', 1),\n",
       " ('(DoD)', 1),\n",
       " ('(USAF)', 1),\n",
       " ('19', 1),\n",
       " ('2007', 1),\n",
       " ('2007.', 2),\n",
       " ('2008,', 2),\n",
       " ('29–30', 1),\n",
       " ('36', 1),\n",
       " ('5', 1),\n",
       " ('ACM', 1),\n",
       " ('AGM-129', 1),\n",
       " ('Air', 8),\n",
       " ('As', 1),\n",
       " ('August', 1),\n",
       " ('B-52H', 1),\n",
       " ('Barksdale', 2),\n",
       " ('Base', 3),\n",
       " ('Based', 1),\n",
       " ('Bent', 1),\n",
       " ('Board', 1),\n",
       " ('Chief', 1),\n",
       " ('Command', 1),\n",
       " ('Dakota', 1),\n",
       " ('Defense', 3),\n",
       " ('Department', 2),\n",
       " ('During', 1),\n",
       " ('Force', 8),\n",
       " ('General', 1),\n",
       " ('Global', 1),\n",
       " ('In', 3),\n",
       " ('June', 1),\n",
       " ('Louisiana.', 1),\n",
       " ('Michael', 2),\n",
       " ('Minot', 3),\n",
       " ('Moseley', 1),\n",
       " ('North', 1),\n",
       " ('October', 2),\n",
       " ('Science', 1),\n",
       " ('Secretary', 1),\n",
       " ('Separate', 1),\n",
       " ('Six', 1),\n",
       " ('Spear', 1),\n",
       " ('Staff', 1),\n",
       " ('States', 5),\n",
       " ('Strike', 1),\n",
       " ('T', 1),\n",
       " ('The', 5),\n",
       " ('USAF', 8),\n",
       " ('United', 5),\n",
       " ('W80-1', 1),\n",
       " ('Wynne', 1),\n",
       " ('a', 7),\n",
       " ('addition,', 1),\n",
       " ('aircraft', 1),\n",
       " ('all', 1),\n",
       " ('an', 1),\n",
       " ('and', 14),\n",
       " ('and/or', 1),\n",
       " ('announced', 1),\n",
       " ('any', 1),\n",
       " ('as', 1),\n",
       " ('asked', 1),\n",
       " ('at', 3),\n",
       " ('been', 2),\n",
       " ('before', 1),\n",
       " ('bomber', 1),\n",
       " ('bombers,', 1),\n",
       " ('both', 1),\n",
       " ('bunker.', 1),\n",
       " ('but', 2),\n",
       " ('by', 5),\n",
       " ('certain', 1),\n",
       " ('commanders', 1),\n",
       " ('commands,', 1),\n",
       " ('committee,', 1),\n",
       " ('concern', 1),\n",
       " ('concerns', 1),\n",
       " ('concluded', 1),\n",
       " ('conducted', 1),\n",
       " ('control', 1),\n",
       " ('creation', 1),\n",
       " ('cruise', 2),\n",
       " ('decertified', 1),\n",
       " ('did', 1),\n",
       " ('disciplined', 1),\n",
       " ('does', 1),\n",
       " ('duties,', 1),\n",
       " ('each', 1),\n",
       " ('existed', 1),\n",
       " ('failures', 1),\n",
       " ('find', 1),\n",
       " ('followed', 1),\n",
       " ('for', 4),\n",
       " ('four', 1),\n",
       " ('from', 2),\n",
       " ('further', 1),\n",
       " ('given.', 1),\n",
       " ('had', 1),\n",
       " ('handling', 3),\n",
       " ('have', 1),\n",
       " ('heavy', 1),\n",
       " ('hours.', 1),\n",
       " ('immediate', 1),\n",
       " ('in', 5),\n",
       " ('incident', 3),\n",
       " ('incident,', 2),\n",
       " ('incident.', 1),\n",
       " ('incidents,', 1),\n",
       " ('indicates', 1),\n",
       " ('instructions', 1),\n",
       " ('investigation', 1),\n",
       " ('investigation,', 1),\n",
       " ('investigations', 1),\n",
       " ('involve', 1),\n",
       " ('involved', 1),\n",
       " ('is', 1),\n",
       " ('issued', 1),\n",
       " ('levels', 1),\n",
       " ('loaded', 2),\n",
       " ('mandatory', 1),\n",
       " ('military', 1),\n",
       " ('missile', 1),\n",
       " ('missiles', 3),\n",
       " ('missiles,', 2),\n",
       " ('missing,', 1),\n",
       " ('missions', 1),\n",
       " ('mistakenly', 1),\n",
       " ('mounted', 1),\n",
       " ('new', 1),\n",
       " ('not', 5),\n",
       " ('nuclear', 13),\n",
       " ('numerous', 2),\n",
       " ('observers', 1),\n",
       " ('occurred', 1),\n",
       " ('of', 13),\n",
       " ('on', 5),\n",
       " ('onto', 1),\n",
       " ('operations', 1),\n",
       " ('other', 2),\n",
       " ('panel', 1),\n",
       " ('perform', 1),\n",
       " ('period,', 1),\n",
       " ('personnel', 2),\n",
       " ('personnel.', 1),\n",
       " ('precautions', 1),\n",
       " ('procedures', 2),\n",
       " ('procedures.', 1),\n",
       " ('processes', 1),\n",
       " ('protected', 1),\n",
       " ('recommendations', 1),\n",
       " ('referred', 1),\n",
       " ('released', 1),\n",
       " ('relieved', 1),\n",
       " ('remained', 1),\n",
       " ('removed', 1),\n",
       " ('reported', 3),\n",
       " ('resignations,', 1),\n",
       " ('response', 2),\n",
       " ('result,', 1),\n",
       " ('results', 1),\n",
       " ('review', 1),\n",
       " ('ribbon\"', 1),\n",
       " ('security', 2),\n",
       " ('sensitive', 1),\n",
       " ('significant', 1),\n",
       " ('standards', 1),\n",
       " ('storage', 1),\n",
       " ('supposed', 1),\n",
       " ('suspended.', 1),\n",
       " ('taken', 1),\n",
       " ('that', 3),\n",
       " ('the', 22),\n",
       " ('their', 3),\n",
       " ('this', 2),\n",
       " ('threat', 1),\n",
       " ('to', 9),\n",
       " ('top', 1),\n",
       " ('transport', 1),\n",
       " ('transported', 1),\n",
       " ('types', 1),\n",
       " ('variable', 1),\n",
       " ('various', 1),\n",
       " ('war.', 1),\n",
       " ('warhead,', 1),\n",
       " ('warheads', 3),\n",
       " ('was', 1),\n",
       " ('weapon', 1),\n",
       " ('weapons', 5),\n",
       " ('weapons.', 2),\n",
       " ('were', 11),\n",
       " ('which', 3),\n",
       " ('with', 3),\n",
       " ('within', 1),\n",
       " ('yield', 1),\n",
       " ('–', 2)]"
      ]
     },
     "execution_count": 260,
     "metadata": {},
     "output_type": "execute_result"
    }
   ],
   "source": [
    "df.collect()"
   ]
  },
  {
   "cell_type": "code",
   "execution_count": 213,
   "metadata": {},
   "outputs": [],
   "source": []
  },
  {
   "cell_type": "code",
   "execution_count": 243,
   "metadata": {},
   "outputs": [],
   "source": [
    "# rawData1.collect()\n",
    "\n",
    "# x=rawData1.map(lambda x:x.split(',')).collect()\n",
    "\n",
    "# type(x)\n",
    "\n",
    "# str(x[0][0])\n",
    "\n",
    "\n",
    "\n",
    "\n",
    "\n",
    "# x.collect()\n",
    "\n",
    "# rawData1.map(lambda x:x.split(',')).map(lambda x:x[0]+' -'+x[1]+','+x[2]+','+x[3]).collect()\n",
    "\n",
    "# .mapValues(list)\n",
    "\n",
    "# y.map(lambda x:(x[0],str(x[1]).split(',')[1])).groupByKey().sortBy(x[1]).collect()\n",
    "\n",
    "# y.map(lambda x:(x[0],int(str(x[1]).split(',')[1]))).sortBy(lambda x:x[1])\\\n",
    "# .combineByKey(lambda v:[v],lambda x,y:x+[y],lambda x,y:x+y).collect()"
   ]
  },
  {
   "cell_type": "code",
   "execution_count": 294,
   "metadata": {},
   "outputs": [],
   "source": [
    "rawData1 = sc.textFile('2.txt')\n",
    "\n",
    "y=rawData1.map(lambda x:x.split(',')).map(lambda x:(x[0]+' -'+x[1],x[2]+','+x[3]))\n",
    "y=y.map(lambda x:(x[0],int(str(x[1]).split(',')[1])))\\\n",
    ".partitionBy(3).sortBy(lambda x:x[1])\\\n",
    ".groupByKey()\\\n",
    ".mapValues(list)"
   ]
  },
  {
   "cell_type": "code",
   "execution_count": 295,
   "metadata": {},
   "outputs": [
    {
     "name": "stdout",
     "output_type": "stream",
     "text": [
      "Number of partitions: 3\n",
      "Partitions structure: [[], [('2005 -08', [38, 50, 52, 70]), ('2001 -11', [40, 46, 47, 48])], [('2012 -01', [5, 10, 35, 45]), ('2012 -07', [10])]]\n"
     ]
    }
   ],
   "source": [
    "print(\"Number of partitions: {}\".format(y.getNumPartitions()))\n",
    "print(\"Partitions structure: {}\".format(y.glom().collect()))"
   ]
  },
  {
   "cell_type": "code",
   "execution_count": 296,
   "metadata": {},
   "outputs": [
    {
     "data": {
      "text/plain": [
       "[('2005 -08', [38, 50, 52, 70]),\n",
       " ('2001 -11', [40, 46, 47, 48]),\n",
       " ('2012 -01', [5, 10, 35, 45]),\n",
       " ('2012 -07', [10])]"
      ]
     },
     "execution_count": 296,
     "metadata": {},
     "output_type": "execute_result"
    }
   ],
   "source": [
    "y.collect()"
   ]
  },
  {
   "cell_type": "code",
   "execution_count": 298,
   "metadata": {},
   "outputs": [],
   "source": [
    "y=rawData1.map(lambda x:x.split(',')).map(lambda x:(x[0]+' -'+x[1],x[2]+','+x[3]))"
   ]
  },
  {
   "cell_type": "code",
   "execution_count": 300,
   "metadata": {},
   "outputs": [
    {
     "data": {
      "text/plain": [
       "[('2012 -01', 5),\n",
       " ('2012 -01', 45),\n",
       " ('2012 -01', 35),\n",
       " ('2012 -01', 10),\n",
       " ('2012 -07', 10),\n",
       " ('2001 -11', 46),\n",
       " ('2001 -11', 47),\n",
       " ('2001 -11', 48),\n",
       " ('2001 -11', 40),\n",
       " ('2005 -08', 50),\n",
       " ('2005 -08', 52),\n",
       " ('2005 -08', 38),\n",
       " ('2005 -08', 70)]"
      ]
     },
     "execution_count": 300,
     "metadata": {},
     "output_type": "execute_result"
    }
   ],
   "source": [
    "y.map(lambda x:(x[0],int(str(x[1]).split(',')[1]))).collect()"
   ]
  },
  {
   "cell_type": "code",
   "execution_count": null,
   "metadata": {},
   "outputs": [],
   "source": []
  }
 ],
 "metadata": {
  "kernelspec": {
   "display_name": "Python 3",
   "language": "python",
   "name": "python3"
  },
  "language_info": {
   "codemirror_mode": {
    "name": "ipython",
    "version": 3
   },
   "file_extension": ".py",
   "mimetype": "text/x-python",
   "name": "python",
   "nbconvert_exporter": "python",
   "pygments_lexer": "ipython3",
   "version": "3.6.8"
  }
 },
 "nbformat": 4,
 "nbformat_minor": 2
}
