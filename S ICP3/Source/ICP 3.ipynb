{
 "cells": [
  {
   "cell_type": "code",
   "execution_count": 83,
   "metadata": {},
   "outputs": [],
   "source": [
    "## Importing Lib\n",
    "from pyspark import SparkContext,SQLContext\n",
    "import pyspark.sql.functions as f\n",
    "sc =SparkContext.getOrCreate()\n",
    "sqlcontext=SQLContext(sc)\n",
    "# rawData = sc.textFile('file.txt')"
   ]
  },
  {
   "cell_type": "code",
   "execution_count": 198,
   "metadata": {},
   "outputs": [],
   "source": [
    "## Reading CSV\n",
    "df=sc.textFile('survey.csv')\n",
    "df1=sqlcontext.read.format(\"csv\").option(\"header\", \"true\").csv(\"survey.csv\")"
   ]
  },
  {
   "cell_type": "code",
   "execution_count": 183,
   "metadata": {},
   "outputs": [],
   "source": []
  },
  {
   "cell_type": "code",
   "execution_count": 199,
   "metadata": {},
   "outputs": [
    {
     "data": {
      "text/plain": [
       "DataFrame[_1: string, _2: string, _3: string, _4: string, _5: string, _6: string, _7: string, _8: string, _9: string, _10: string, _11: string, _12: string, _13: string, _14: string, _15: string, _16: string, _17: string, _18: string, _19: string, _20: string, _21: string, _22: string, _23: string, _24: string, _25: string, _26: string, _27: string]"
      ]
     },
     "execution_count": 199,
     "metadata": {},
     "output_type": "execute_result"
    }
   ],
   "source": [
    "sqlContext.createDataFrame(df.map(lambda text: text.split( \",\" )))."
   ]
  },
  {
   "cell_type": "code",
   "execution_count": 114,
   "metadata": {},
   "outputs": [],
   "source": [
    "## Writing to csv\n",
    "df1.write.option(\"header\", \"true\").csv(\"spark_survey3.csv\")"
   ]
  },
  {
   "cell_type": "code",
   "execution_count": null,
   "metadata": {},
   "outputs": [],
   "source": []
  },
  {
   "cell_type": "code",
   "execution_count": 40,
   "metadata": {},
   "outputs": [
    {
     "name": "stdout",
     "output_type": "stream",
     "text": [
      "+-------------+---+------+-------------+-----+-------------+--------------+---------+--------------+--------------+-----------+------------+----------+------------+----------------+----------+----------+-------------+-------------------------+-----------------------+------------+----------+-----------------------+---------------------+------------------+---------------+--------+\n",
      "|    Timestamp|Age|Gender|      Country|state|self_employed|family_history|treatment|work_interfere|  no_employees|remote_work|tech_company|  benefits|care_options|wellness_program| seek_help| anonymity|        leave|mental_health_consequence|phys_health_consequence|   coworkers|supervisor|mental_health_interview|phys_health_interview|mental_vs_physical|obs_consequence|comments|\n",
      "+-------------+---+------+-------------+-----+-------------+--------------+---------+--------------+--------------+-----------+------------+----------+------------+----------------+----------+----------+-------------+-------------------------+-----------------------+------------+----------+-----------------------+---------------------+------------------+---------------+--------+\n",
      "|8/27/14 11:29| 37|Female|United States|   IL|           NA|            No|      Yes|         Often|        25-Jun|         No|         Yes|       Yes|    Not sure|              No|       Yes|       Yes|Somewhat easy|                       No|                     No|Some of them|       Yes|                     No|                Maybe|               Yes|             No|      NA|\n",
      "|8/27/14 11:29| 44|     M|United States|   IN|           NA|            No|       No|        Rarely|More than 1000|         No|          No|Don't know|          No|      Don't know|Don't know|Don't know|   Don't know|                    Maybe|                     No|          No|        No|                     No|                   No|        Don't know|             No|      NA|\n",
      "+-------------+---+------+-------------+-----+-------------+--------------+---------+--------------+--------------+-----------+------------+----------+------------+----------------+----------+----------+-------------+-------------------------+-----------------------+------------+----------+-----------------------+---------------------+------------------+---------------+--------+\n",
      "only showing top 2 rows\n",
      "\n"
     ]
    }
   ],
   "source": [
    "spark.sql(\"SELECT * FROM survey\").show(2)"
   ]
  },
  {
   "cell_type": "code",
   "execution_count": 86,
   "metadata": {},
   "outputs": [
    {
     "name": "stdout",
     "output_type": "stream",
     "text": [
      "+-------------+---+------+-------------+-----+-------------+--------------+---------+--------------+--------------+-----------+------------+----------+------------+----------------+----------+----------+-------------+-------------------------+-----------------------+------------+----------+-----------------------+---------------------+------------------+---------------+--------+\n",
      "|    Timestamp|Age|Gender|      Country|state|self_employed|family_history|treatment|work_interfere|  no_employees|remote_work|tech_company|  benefits|care_options|wellness_program| seek_help| anonymity|        leave|mental_health_consequence|phys_health_consequence|   coworkers|supervisor|mental_health_interview|phys_health_interview|mental_vs_physical|obs_consequence|comments|\n",
      "+-------------+---+------+-------------+-----+-------------+--------------+---------+--------------+--------------+-----------+------------+----------+------------+----------------+----------+----------+-------------+-------------------------+-----------------------+------------+----------+-----------------------+---------------------+------------------+---------------+--------+\n",
      "|8/27/14 11:29| 37|Female|United States|   IL|           NA|            No|      Yes|         Often|        25-Jun|         No|         Yes|       Yes|    Not sure|              No|       Yes|       Yes|Somewhat easy|                       No|                     No|Some of them|       Yes|                     No|                Maybe|               Yes|             No|      NA|\n",
      "|8/27/14 11:29| 44|     M|United States|   IN|           NA|            No|       No|        Rarely|More than 1000|         No|          No|Don't know|          No|      Don't know|Don't know|Don't know|   Don't know|                    Maybe|                     No|          No|        No|                     No|                   No|        Don't know|             No|      NA|\n",
      "+-------------+---+------+-------------+-----+-------------+--------------+---------+--------------+--------------+-----------+------------+----------+------------+----------------+----------+----------+-------------+-------------------------+-----------------------+------------+----------+-----------------------+---------------------+------------------+---------------+--------+\n",
      "only showing top 2 rows\n",
      "\n"
     ]
    }
   ],
   "source": [
    "df1.registerTempTable('survey')\n",
    "spark.sql(\"SELECT * FROM survey\").show(2)"
   ]
  },
  {
   "cell_type": "code",
   "execution_count": null,
   "metadata": {},
   "outputs": [],
   "source": []
  },
  {
   "cell_type": "code",
   "execution_count": 87,
   "metadata": {},
   "outputs": [
    {
     "data": {
      "text/html": [
       "<div>\n",
       "<style scoped>\n",
       "    .dataframe tbody tr th:only-of-type {\n",
       "        vertical-align: middle;\n",
       "    }\n",
       "\n",
       "    .dataframe tbody tr th {\n",
       "        vertical-align: top;\n",
       "    }\n",
       "\n",
       "    .dataframe thead th {\n",
       "        text-align: right;\n",
       "    }\n",
       "</style>\n",
       "<table border=\"1\" class=\"dataframe\">\n",
       "  <thead>\n",
       "    <tr style=\"text-align: right;\">\n",
       "      <th></th>\n",
       "      <th>Timestamp</th>\n",
       "      <th>Age</th>\n",
       "      <th>Gender</th>\n",
       "      <th>Country</th>\n",
       "      <th>state</th>\n",
       "      <th>self_employed</th>\n",
       "      <th>family_history</th>\n",
       "      <th>treatment</th>\n",
       "      <th>work_interfere</th>\n",
       "      <th>no_employees</th>\n",
       "      <th>...</th>\n",
       "      <th>leave</th>\n",
       "      <th>mental_health_consequence</th>\n",
       "      <th>phys_health_consequence</th>\n",
       "      <th>coworkers</th>\n",
       "      <th>supervisor</th>\n",
       "      <th>mental_health_interview</th>\n",
       "      <th>phys_health_interview</th>\n",
       "      <th>mental_vs_physical</th>\n",
       "      <th>obs_consequence</th>\n",
       "      <th>comments</th>\n",
       "    </tr>\n",
       "  </thead>\n",
       "  <tbody>\n",
       "    <tr>\n",
       "      <th>860</th>\n",
       "      <td>8/28/14 17:02</td>\n",
       "      <td>32</td>\n",
       "      <td>male</td>\n",
       "      <td>United Kingdom</td>\n",
       "      <td>NA</td>\n",
       "      <td>No</td>\n",
       "      <td>Yes</td>\n",
       "      <td>Yes</td>\n",
       "      <td>Rarely</td>\n",
       "      <td>25-Jun</td>\n",
       "      <td>...</td>\n",
       "      <td>Don't know</td>\n",
       "      <td>Yes</td>\n",
       "      <td>Maybe</td>\n",
       "      <td>Some of them</td>\n",
       "      <td>No</td>\n",
       "      <td>No</td>\n",
       "      <td>No</td>\n",
       "      <td>No</td>\n",
       "      <td>No</td>\n",
       "      <td>NA</td>\n",
       "    </tr>\n",
       "  </tbody>\n",
       "</table>\n",
       "<p>1 rows × 27 columns</p>\n",
       "</div>"
      ],
      "text/plain": [
       "         Timestamp Age Gender         Country state self_employed  \\\n",
       "860  8/28/14 17:02  32   male  United Kingdom    NA            No   \n",
       "\n",
       "    family_history treatment work_interfere no_employees  ...       leave  \\\n",
       "860            Yes       Yes         Rarely       25-Jun  ...  Don't know   \n",
       "\n",
       "    mental_health_consequence phys_health_consequence     coworkers  \\\n",
       "860                       Yes                   Maybe  Some of them   \n",
       "\n",
       "    supervisor mental_health_interview phys_health_interview  \\\n",
       "860         No                      No                    No   \n",
       "\n",
       "    mental_vs_physical obs_consequence comments  \n",
       "860                 No              No       NA  \n",
       "\n",
       "[1 rows x 27 columns]"
      ]
     },
     "execution_count": 87,
     "metadata": {},
     "output_type": "execute_result"
    }
   ],
   "source": [
    "p_df=df1.toPandas()\n",
    "p_df[p_df.duplicated()]"
   ]
  },
  {
   "cell_type": "code",
   "execution_count": 88,
   "metadata": {},
   "outputs": [
    {
     "name": "stdout",
     "output_type": "stream",
     "text": [
      "+-------------+---+------+--------------+-----+-------------+--------------+---------+--------------+------------+-----------+------------+--------+------------+----------------+---------+---------+----------+-------------------------+-----------------------+------------+----------+-----------------------+---------------------+------------------+---------------+--------+-----+\n",
      "|    Timestamp|Age|Gender|       Country|state|self_employed|family_history|treatment|work_interfere|no_employees|remote_work|tech_company|benefits|care_options|wellness_program|seek_help|anonymity|     leave|mental_health_consequence|phys_health_consequence|   coworkers|supervisor|mental_health_interview|phys_health_interview|mental_vs_physical|obs_consequence|comments|count|\n",
      "+-------------+---+------+--------------+-----+-------------+--------------+---------+--------------+------------+-----------+------------+--------+------------+----------------+---------+---------+----------+-------------------------+-----------------------+------------+----------+-----------------------+---------------------+------------------+---------------+--------+-----+\n",
      "|8/28/14 17:02| 32|  male|United Kingdom|   NA|           No|           Yes|      Yes|        Rarely|      25-Jun|         No|          No|      No|          No|              No|       No|       No|Don't know|                      Yes|                  Maybe|Some of them|        No|                     No|                   No|                No|             No|      NA|    2|\n",
      "+-------------+---+------+--------------+-----+-------------+--------------+---------+--------------+------------+-----------+------------+--------+------------+----------------+---------+---------+----------+-------------------------+-----------------------+------------+----------+-----------------------+---------------------+------------------+---------------+--------+-----+\n",
      "\n"
     ]
    }
   ],
   "source": [
    "## Finding the dupicated records\n",
    "df1.groupBy(df1.columns)\\\n",
    "    .count()\\\n",
    "    .where(f.col('count') > 1)\\\n",
    "    .show()"
   ]
  },
  {
   "cell_type": "code",
   "execution_count": 155,
   "metadata": {},
   "outputs": [
    {
     "name": "stdout",
     "output_type": "stream",
     "text": [
      "+-------------+---+------+--------+\n",
      "|    Timestamp|Age|Gender|count(1)|\n",
      "+-------------+---+------+--------+\n",
      "|8/28/14 17:02| 32|  male|       2|\n",
      "|8/27/14 15:25| 29|  Male|       2|\n",
      "|8/27/14 13:24| 38|  Male|       2|\n",
      "|8/27/14 12:34| 27|  Male|       2|\n",
      "| 8/28/14 9:56| 32|  Male|       2|\n",
      "|8/27/14 15:27| 33|  Male|       2|\n",
      "+-------------+---+------+--------+\n",
      "\n"
     ]
    }
   ],
   "source": [
    "spark.sql('SELECT Timestamp,Age,Gender,count(*) FROM survey\\\n",
    "          GROUP BY Timestamp,Age,Gender HAVING count(*) >1').show()"
   ]
  },
  {
   "cell_type": "code",
   "execution_count": null,
   "metadata": {},
   "outputs": [],
   "source": []
  },
  {
   "cell_type": "code",
   "execution_count": 140,
   "metadata": {},
   "outputs": [
    {
     "name": "stdout",
     "output_type": "stream",
     "text": [
      "+-------------+---+------+-------------+-----+-------------+--------------+---------+--------------+--------------+-----------+------------+----------+------------+----------------+----------+----------+--------------+-------------------------+-----------------------+------------+----------+-----------------------+---------------------+------------------+---------------+--------+\n",
      "|    Timestamp|Age|Gender|      Country|state|self_employed|family_history|treatment|work_interfere|  no_employees|remote_work|tech_company|  benefits|care_options|wellness_program| seek_help| anonymity|         leave|mental_health_consequence|phys_health_consequence|   coworkers|supervisor|mental_health_interview|phys_health_interview|mental_vs_physical|obs_consequence|comments|\n",
      "+-------------+---+------+-------------+-----+-------------+--------------+---------+--------------+--------------+-----------+------------+----------+------------+----------------+----------+----------+--------------+-------------------------+-----------------------+------------+----------+-----------------------+---------------------+------------------+---------------+--------+\n",
      "|8/27/14 11:29| 44|     M|United States|   IN|           NA|            No|       No|        Rarely|More than 1000|         No|          No|Don't know|          No|      Don't know|Don't know|Don't know|    Don't know|                    Maybe|                     No|          No|        No|                     No|                   No|        Don't know|             No|      NA|\n",
      "|8/27/14 11:32| 39|     M|       Canada|   NA|           NA|            No|       No|         Never|         5-Jan|        Yes|         Yes|        No|         Yes|              No|        No|       Yes|    Don't know|                       No|                     No|          No|        No|                     No|                   No|                No|             No|      NA|\n",
      "|8/27/14 11:42| 50|     M|United States|   IN|           No|            No|       No|            NA|       100-500|         No|         Yes|       Yes|         Yes|              No|Don't know|Don't know|    Don't know|                       No|                     No|Some of them|       Yes|                     No|                Maybe|        Don't know|             No|      NA|\n",
      "|8/27/14 11:42| 35|     M|United States|   TX|           No|            No|      Yes|        Rarely|More than 1000|        Yes|         Yes|       Yes|         Yes|              No|       Yes|       Yes|     Very easy|                       No|                     No|         Yes|       Yes|                  Maybe|                Maybe|               Yes|             No|      NA|\n",
      "|8/27/14 11:44| 22|     M|United States|   TX|           No|           Yes|      Yes|         Often|        25-Jun|         No|         Yes|        No|         Yes|              No|        No|       Yes|Very difficult|                    Maybe|                     No|          No|        No|                     No|                Maybe|        Don't know|             No|      NA|\n",
      "+-------------+---+------+-------------+-----+-------------+--------------+---------+--------------+--------------+-----------+------------+----------+------------+----------------+----------+----------+--------------+-------------------------+-----------------------+------------+----------+-----------------------+---------------------+------------------+---------------+--------+\n",
      "only showing top 5 rows\n",
      "\n"
     ]
    }
   ],
   "source": [
    "## Using the union\n",
    "spark.sql(\"SELECT * FROM survey WHERE 1=1 AND Gender='M'\").registerTempTable('m_tb')\n",
    "spark.sql(\"SELECT * FROM survey WHERE 1=1 AND Gender='Male'\").registerTempTable('male_tb')\n",
    "spark.sql(\"SELECT * FROM m_tb UNION ALL SELECT * FROM male_tb\").show(5)"
   ]
  },
  {
   "cell_type": "code",
   "execution_count": 91,
   "metadata": {},
   "outputs": [
    {
     "name": "stdout",
     "output_type": "stream",
     "text": [
      "+---------+---+\n",
      "|treatment| ct|\n",
      "+---------+---+\n",
      "|       No|622|\n",
      "|      Yes|637|\n",
      "+---------+---+\n",
      "\n"
     ]
    }
   ],
   "source": [
    "## Group By\n",
    "spark.sql(\"SELECT treatment,count(*) as ct FROM survey WHERE 1=1 GROUP BY treatment\").show()"
   ]
  },
  {
   "cell_type": "code",
   "execution_count": null,
   "metadata": {},
   "outputs": [],
   "source": []
  },
  {
   "cell_type": "code",
   "execution_count": null,
   "metadata": {},
   "outputs": [],
   "source": []
  },
  {
   "cell_type": "code",
   "execution_count": 92,
   "metadata": {},
   "outputs": [
    {
     "name": "stdout",
     "output_type": "stream",
     "text": [
      "+---+------+-----+\n",
      "|Age|Gender|state|\n",
      "+---+------+-----+\n",
      "| 44|     M|   IN|\n",
      "| 39|     M|   NA|\n",
      "+---+------+-----+\n",
      "only showing top 2 rows\n",
      "\n"
     ]
    }
   ],
   "source": [
    "spark.sql('SELECT Age,Gender,state FROM m_tb').show(2)"
   ]
  },
  {
   "cell_type": "code",
   "execution_count": 93,
   "metadata": {},
   "outputs": [
    {
     "name": "stdout",
     "output_type": "stream",
     "text": [
      "+---+------+-----+\n",
      "|Age|Gender|state|\n",
      "+---+------+-----+\n",
      "| 32|  Male|   NA|\n",
      "| 31|  Male|   NA|\n",
      "+---+------+-----+\n",
      "only showing top 2 rows\n",
      "\n"
     ]
    }
   ],
   "source": [
    "spark.sql('SELECT Age,Gender,state FROM male_tb').show(2)"
   ]
  },
  {
   "cell_type": "code",
   "execution_count": 115,
   "metadata": {},
   "outputs": [
    {
     "name": "stdout",
     "output_type": "stream",
     "text": [
      "+-----+--------+------+------+---------+-------+\n",
      "|m_age|m_gender|m_sate|m1_age|m1_gender|m1_sate|\n",
      "+-----+--------+------+------+---------+-------+\n",
      "|   44|       M|    IN|    32|     Male|     IN|\n",
      "|   44|       M|    IN|    25|     Male|     IN|\n",
      "|   44|       M|    IN|    48|     Male|     IN|\n",
      "|   44|       M|    IN|    34|     Male|     IN|\n",
      "|   44|       M|    IN|    19|     Male|     IN|\n",
      "+-----+--------+------+------+---------+-------+\n",
      "only showing top 5 rows\n",
      "\n"
     ]
    }
   ],
   "source": [
    "## Join Operation\n",
    "spark.sql(\"SELECT m.Age m_age,m.Gender m_gender,m.state m_sate,\\\n",
    "          m1.Age m1_age,m1.Gender m1_gender,m1.state m1_sate \\\n",
    "          FROM m_tb m,male_tb m1 WHERE 1=1 AND m.state=m1.state\").show(5)"
   ]
  },
  {
   "cell_type": "code",
   "execution_count": 95,
   "metadata": {},
   "outputs": [
    {
     "name": "stdout",
     "output_type": "stream",
     "text": [
      "+---+------------+\n",
      "|Age|count(state)|\n",
      "+---+------------+\n",
      "| 51|         272|\n",
      "| 54|          49|\n",
      "| 29|         927|\n",
      "| 42|          75|\n",
      "| 30|         360|\n",
      "+---+------------+\n",
      "only showing top 5 rows\n",
      "\n"
     ]
    }
   ],
   "source": [
    "## Aggregate Function\n",
    "spark.sql(\"SELECT m.Age ,count(m.state) \\\n",
    "          FROM m_tb m,male_tb m1 WHERE 1=1 AND m.state=m1.state GROUP BY m.Age\").show(5)"
   ]
  },
  {
   "cell_type": "code",
   "execution_count": 96,
   "metadata": {},
   "outputs": [
    {
     "data": {
      "text/plain": [
       "Row(Timestamp='8/27/14 11:33', Age='42', Gender='female', Country='United States', state='CA', self_employed='NA', family_history='Yes', treatment='Yes', work_interfere='Sometimes', no_employees='26-100', remote_work='No', tech_company='No', benefits='Yes', care_options='Yes', wellness_program='No', seek_help='No', anonymity=\"Don't know\", leave='Somewhat difficult', mental_health_consequence='Yes', phys_health_consequence='Yes', coworkers='Yes', supervisor='Yes', mental_health_interview='Maybe', phys_health_interview='Maybe', mental_vs_physical='No', obs_consequence='Yes', comments='NA')"
      ]
     },
     "execution_count": 96,
     "metadata": {},
     "output_type": "execute_result"
    }
   ],
   "source": [
    "## Fetching 13 Record\n",
    "x=spark.sql(\"SELECT * \\\n",
    "          FROM survey limit 13\").collect()\n",
    "x[-1]"
   ]
  },
  {
   "cell_type": "code",
   "execution_count": null,
   "metadata": {},
   "outputs": [],
   "source": []
  },
  {
   "cell_type": "code",
   "execution_count": 139,
   "metadata": {},
   "outputs": [
    {
     "name": "stdout",
     "output_type": "stream",
     "text": [
      "+-------------+---+------+-------------+-----+-------------+--------------+---------+--------------+------------+-----------+------------+----------+------------+----------------+---------+----------+----------+-------------------------+-----------------------+------------+----------+-----------------------+---------------------+------------------+---------------+--------+\n",
      "|    Timestamp|Age|Gender|      Country|state|self_employed|family_history|treatment|work_interfere|no_employees|remote_work|tech_company|  benefits|care_options|wellness_program|seek_help| anonymity|     leave|mental_health_consequence|phys_health_consequence|   coworkers|supervisor|mental_health_interview|phys_health_interview|mental_vs_physical|obs_consequence|comments|\n",
      "+-------------+---+------+-------------+-----+-------------+--------------+---------+--------------+------------+-----------+------------+----------+------------+----------------+---------+----------+----------+-------------------------+-----------------------+------------+----------+-----------------------+---------------------+------------------+---------------+--------+\n",
      "|2/21/15 10:00| 46|  Male|United States|   CA|           No|           Yes|      Yes|         Often|      26-100|         No|         Yes|Don't know|          No|              No|       No|Don't know|Don't know|                    Maybe|                     No|Some of them|        No|                     No|                   No|                No|             No|      NA|\n",
      "+-------------+---+------+-------------+-----+-------------+--------------+---------+--------------+------------+-----------+------------+----------+------------+----------------+---------+----------+----------+-------------------------+-----------------------+------------+----------+-----------------------+---------------------+------------------+---------------+--------+\n",
      "\n"
     ]
    }
   ],
   "source": [
    "t_df=spark.sql(\"SELECT * FROM (SELECT *,ROW_NUMBER() OVER (ORDER BY Timestamp) ix\\\n",
    "          FROM survey WHERE 1=1) WHERE ix=13\")\n",
    "t_df.drop('ix').registerTempTable('13rec')\n",
    "spark.sql('SELECT * FROM 13rec').show()"
   ]
  },
  {
   "cell_type": "code",
   "execution_count": 147,
   "metadata": {},
   "outputs": [],
   "source": [
    "y=spark.createDataFrame([x[-1]])"
   ]
  },
  {
   "cell_type": "code",
   "execution_count": 151,
   "metadata": {},
   "outputs": [
    {
     "name": "stdout",
     "output_type": "stream",
     "text": [
      "+-------------+---+------+-------------+-----+-------------+--------------+---------+--------------+------------+-----------+------------+--------+------------+----------------+---------+----------+------------------+-------------------------+-----------------------+---------+----------+-----------------------+---------------------+------------------+---------------+--------+\n",
      "|    Timestamp|Age|Gender|      Country|state|self_employed|family_history|treatment|work_interfere|no_employees|remote_work|tech_company|benefits|care_options|wellness_program|seek_help| anonymity|             leave|mental_health_consequence|phys_health_consequence|coworkers|supervisor|mental_health_interview|phys_health_interview|mental_vs_physical|obs_consequence|comments|\n",
      "+-------------+---+------+-------------+-----+-------------+--------------+---------+--------------+------------+-----------+------------+--------+------------+----------------+---------+----------+------------------+-------------------------+-----------------------+---------+----------+-----------------------+---------------------+------------------+---------------+--------+\n",
      "|8/27/14 11:33| 42|female|United States|   CA|           NA|           Yes|      Yes|     Sometimes|      26-100|         No|          No|     Yes|         Yes|              No|       No|Don't know|Somewhat difficult|                      Yes|                    Yes|      Yes|       Yes|                  Maybe|                Maybe|                No|            Yes|      NA|\n",
      "+-------------+---+------+-------------+-----+-------------+--------------+---------+--------------+------------+-----------+------------+--------+------------+----------------+---------+----------+------------------+-------------------------+-----------------------+---------+----------+-----------------------+---------------------+------------------+---------------+--------+\n",
      "\n"
     ]
    }
   ],
   "source": [
    "y.registerTempTable('temp')\n",
    "spark.sql('select * FROM temp').show()"
   ]
  },
  {
   "cell_type": "code",
   "execution_count": 195,
   "metadata": {},
   "outputs": [],
   "source": [
    "dataRead = sc.textFile('survey.csv')\n",
    "dataRead.take(5)\n",
    "\n",
    "import csv\n",
    "import string\n",
    "\n",
    "def parseLine(line):\n",
    "    csvdata = csv.reader([line], delimiter=',', quotechar='\"')\n",
    "    for fields in csvdata:\n",
    "        try:            \n",
    "            return { \"TimeStamp\" : fields[0] , \"Age\": fields[1], \"Gender\" : fields[2]}\n",
    "        except:\n",
    "            return { \"TimeStamp\" : \"TimeStamp\", \"Age\" :\"Age\", \"Gender\": \"Gender\"}\n",
    "\n",
    "\n",
    "dataRead_data = dataRead.map(parseLine).filter(lambda ufo: ufo['Gender'] != 'Gender')"
   ]
  },
  {
   "cell_type": "code",
   "execution_count": 196,
   "metadata": {},
   "outputs": [
    {
     "name": "stdout",
     "output_type": "stream",
     "text": [
      "+---+------+-------------+\n",
      "|Age|Gender|    TimeStamp|\n",
      "+---+------+-------------+\n",
      "| 37|Female|8/27/14 11:29|\n",
      "| 44|     M|8/27/14 11:29|\n",
      "| 32|  Male|8/27/14 11:29|\n",
      "| 31|  Male|8/27/14 11:29|\n",
      "| 31|  Male|8/27/14 11:30|\n",
      "| 33|  Male|8/27/14 11:31|\n",
      "| 35|Female|8/27/14 11:31|\n",
      "| 39|     M|8/27/14 11:32|\n",
      "| 42|Female|8/27/14 11:32|\n",
      "| 23|  Male|8/27/14 11:32|\n",
      "| 31|  Male|8/27/14 11:32|\n",
      "| 29|  male|8/27/14 11:32|\n",
      "| 42|female|8/27/14 11:33|\n",
      "| 36|  Male|8/27/14 11:33|\n",
      "| 27|  Male|8/27/14 11:33|\n",
      "| 29|female|8/27/14 11:34|\n",
      "| 23|  Male|8/27/14 11:34|\n",
      "| 32|  Male|8/27/14 11:34|\n",
      "| 46|  male|8/27/14 11:34|\n",
      "| 36|  Male|8/27/14 11:35|\n",
      "+---+------+-------------+\n",
      "only showing top 20 rows\n",
      "\n"
     ]
    }
   ],
   "source": [
    "dataRead_data.toDF().show()"
   ]
  },
  {
   "cell_type": "code",
   "execution_count": null,
   "metadata": {},
   "outputs": [],
   "source": []
  }
 ],
 "metadata": {
  "kernelspec": {
   "display_name": "Python 3",
   "language": "python",
   "name": "python3"
  },
  "language_info": {
   "codemirror_mode": {
    "name": "ipython",
    "version": 3
   },
   "file_extension": ".py",
   "mimetype": "text/x-python",
   "name": "python",
   "nbconvert_exporter": "python",
   "pygments_lexer": "ipython3",
   "version": "3.6.8"
  }
 },
 "nbformat": 4,
 "nbformat_minor": 2
}
