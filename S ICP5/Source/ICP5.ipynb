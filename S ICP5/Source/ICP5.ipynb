{
 "cells": [
  {
   "cell_type": "code",
   "execution_count": 5,
   "metadata": {},
   "outputs": [],
   "source": [
    "from pyspark import SparkContext,SQLContext\n",
    "from graphframes import *\n",
    "sc = SparkContext.getOrCreate()\n",
    "sc.addPyFile('/Users/neerajpadarthi/Neeraj/spark-2.3.0-bin-hadoop2.7/jars/graphframes-0.7.0-spark2.3-s_2.11.jar')\n",
    "sqlcontext=SQLContext(sc)"
   ]
  },
  {
   "cell_type": "code",
   "execution_count": 6,
   "metadata": {},
   "outputs": [],
   "source": [
    "station= sqlcontext.read.format(\"csv\").option(\"header\", \"true\").csv('201508_station_data.csv')\n",
    "trip= sqlcontext.read.format(\"csv\").option(\"header\", \"true\").csv('201508_trip_data.csv')"
   ]
  },
  {
   "cell_type": "code",
   "execution_count": 7,
   "metadata": {},
   "outputs": [
    {
     "name": "stdout",
     "output_type": "stream",
     "text": [
      "+----------+--------------------+---------+-----------+---------+------------+------------+\n",
      "|station_id|                name|      lat|       long|dockcount|    landmark|installation|\n",
      "+----------+--------------------+---------+-----------+---------+------------+------------+\n",
      "|         2|San Jose Diridon ...|37.329732|-121.901782|       27|    San Jose|    8/6/2013|\n",
      "|         3|San Jose Civic Ce...|37.330698|-121.888979|       15|    San Jose|    8/5/2013|\n",
      "|         4|Santa Clara at Al...|37.333988|-121.894902|       11|    San Jose|    8/6/2013|\n",
      "|         5|    Adobe on Almaden|37.331415|  -121.8932|       19|    San Jose|    8/5/2013|\n",
      "|         6|    San Pedro Square|37.336721|-121.894074|       15|    San Jose|    8/7/2013|\n",
      "|         7|Paseo de San Antonio|37.333798|-121.886943|       15|    San Jose|    8/7/2013|\n",
      "|         8| San Salvador at 1st|37.330165|-121.885831|       15|    San Jose|    8/5/2013|\n",
      "|         9|           Japantown|37.348742|-121.894715|       15|    San Jose|    8/5/2013|\n",
      "|        10|  San Jose City Hall|37.337391|-121.886995|       15|    San Jose|    8/6/2013|\n",
      "|        11|         MLK Library|37.335885| -121.88566|       19|    San Jose|    8/6/2013|\n",
      "|        12|SJSU 4th at San C...|37.332808|-121.883891|       19|    San Jose|    8/7/2013|\n",
      "|        13|       St James Park|37.339301|-121.889937|       15|    San Jose|    8/6/2013|\n",
      "|        14|Arena Green / SAP...|37.332692|-121.900084|       19|    San Jose|    8/5/2013|\n",
      "|        16|SJSU - San Salvad...|37.333955|-121.877349|       15|    San Jose|    8/7/2013|\n",
      "|        21|   Franklin at Maple|37.481758|-122.226904|       15|Redwood City|   8/12/2013|\n",
      "|        22|Redwood City Calt...|37.486078|-122.232089|       25|Redwood City|   8/15/2013|\n",
      "|        23|San Mateo County ...|37.487616|-122.229951|       15|Redwood City|   8/15/2013|\n",
      "|        24|Redwood City Publ...|37.484219|-122.227424|       15|Redwood City|   8/12/2013|\n",
      "|        25|Stanford in Redwo...| 37.48537|-122.203288|       15|Redwood City|   8/12/2013|\n",
      "|        26|Redwood City Medi...|37.487682|-122.223492|       15|Redwood City|   8/12/2013|\n",
      "+----------+--------------------+---------+-----------+---------+------------+------------+\n",
      "only showing top 20 rows\n",
      "\n"
     ]
    }
   ],
   "source": [
    "station.show()"
   ]
  },
  {
   "cell_type": "code",
   "execution_count": 8,
   "metadata": {},
   "outputs": [],
   "source": [
    "# station.printSchema"
   ]
  },
  {
   "cell_type": "code",
   "execution_count": 9,
   "metadata": {},
   "outputs": [
    {
     "name": "stdout",
     "output_type": "stream",
     "text": [
      "+-------+--------+---------------+--------------------+--------------+---------------+--------------------+------------+------+---------------+--------+\n",
      "|Trip ID|Duration|     Start Date|       Start Station|Start Terminal|       End Date|         End Station|End Terminal|Bike #|Subscriber Type|Zip Code|\n",
      "+-------+--------+---------------+--------------------+--------------+---------------+--------------------+------------+------+---------------+--------+\n",
      "| 913460|     765|8/31/2015 23:26|Harry Bridges Pla...|            50|8/31/2015 23:39|San Francisco Cal...|          70|   288|     Subscriber|    2139|\n",
      "| 913459|    1036|8/31/2015 23:11|San Antonio Shopp...|            31|8/31/2015 23:28|Mountain View Cit...|          27|    35|     Subscriber|   95032|\n",
      "| 913455|     307|8/31/2015 23:13|      Post at Kearny|            47|8/31/2015 23:18|   2nd at South Park|          64|   468|     Subscriber|   94107|\n",
      "| 913454|     409|8/31/2015 23:10|  San Jose City Hall|            10|8/31/2015 23:17| San Salvador at 1st|           8|    68|     Subscriber|   95113|\n",
      "| 913453|     789|8/31/2015 23:09|Embarcadero at Fo...|            51|8/31/2015 23:22|Embarcadero at Sa...|          60|   487|       Customer|    9069|\n",
      "| 913452|     293|8/31/2015 23:07|Yerba Buena Cente...|            68|8/31/2015 23:12|San Francisco Cal...|          70|   538|     Subscriber|   94118|\n",
      "| 913451|     896|8/31/2015 23:07|Embarcadero at Fo...|            51|8/31/2015 23:22|Embarcadero at Sa...|          60|   363|       Customer|   92562|\n",
      "| 913450|     255|8/31/2015 22:16|Embarcadero at Sa...|            60|8/31/2015 22:20|   Steuart at Market|          74|   470|     Subscriber|   94111|\n",
      "| 913449|     126|8/31/2015 22:12|     Beale at Market|            56|8/31/2015 22:15|Temporary Transba...|          55|   439|     Subscriber|   94130|\n",
      "| 913448|     932|8/31/2015 21:57|      Post at Kearny|            47|8/31/2015 22:12|South Van Ness at...|          66|   472|     Subscriber|   94702|\n",
      "| 913443|     691|8/31/2015 21:49|Embarcadero at Sa...|            60|8/31/2015 22:01|   Market at Sansome|          77|   434|     Subscriber|   94109|\n",
      "| 913442|     633|8/31/2015 21:44|      Market at 10th|            67|8/31/2015 21:54|San Francisco Cal...|          70|   531|     Subscriber|   94107|\n",
      "| 913441|     387|8/31/2015 21:39|       Market at 4th|            76|8/31/2015 21:46|Grant Avenue at C...|          73|   383|     Subscriber|   94104|\n",
      "| 913440|     281|8/31/2015 21:31|   Market at Sansome|            77|8/31/2015 21:36|Broadway St at Ba...|          82|   621|     Subscriber|   94107|\n",
      "| 913435|     424|8/31/2015 21:25|Temporary Transba...|            55|8/31/2015 21:33|San Francisco Cal...|          69|   602|     Subscriber|   94401|\n",
      "| 913434|     283|8/31/2015 21:19|San Francisco Cal...|            69|8/31/2015 21:24|     Townsend at 7th|          65|   521|     Subscriber|   94107|\n",
      "| 913433|     145|8/31/2015 21:17|University and Em...|            35|8/31/2015 21:20|Cowper at University|          37|    75|       Customer|    6907|\n",
      "| 913432|     703|8/31/2015 21:16|     Spear at Folsom|            49|8/31/2015 21:28|San Francisco Cal...|          69|   426|     Subscriber|   95032|\n",
      "| 913431|     605|8/31/2015 21:11|Temporary Transba...|            55|8/31/2015 21:21|Grant Avenue at C...|          73|   572|     Subscriber|   94133|\n",
      "| 913429|     902|8/31/2015 21:07|San Francisco Cal...|            70|8/31/2015 21:22|Broadway St at Ba...|          82|   501|     Subscriber|   94133|\n",
      "+-------+--------+---------------+--------------------+--------------+---------------+--------------------+------------+------+---------------+--------+\n",
      "only showing top 20 rows\n",
      "\n"
     ]
    }
   ],
   "source": [
    "trip.show()"
   ]
  },
  {
   "cell_type": "code",
   "execution_count": 10,
   "metadata": {},
   "outputs": [],
   "source": [
    "# station"
   ]
  },
  {
   "cell_type": "code",
   "execution_count": 11,
   "metadata": {},
   "outputs": [
    {
     "name": "stdout",
     "output_type": "stream",
     "text": [
      "+--------------------+\n",
      "|concat(lat,  , long)|\n",
      "+--------------------+\n",
      "|37.329732 -121.90...|\n",
      "|37.330698 -121.88...|\n",
      "|37.333988 -121.89...|\n",
      "+--------------------+\n",
      "only showing top 3 rows\n",
      "\n"
     ]
    }
   ],
   "source": [
    "import pyspark.sql.functions as sf\n",
    "station.select(sf.concat(\"lat\",sf.lit(\" \"),\"long\")).show(3)"
   ]
  },
  {
   "cell_type": "code",
   "execution_count": 12,
   "metadata": {},
   "outputs": [
    {
     "name": "stdout",
     "output_type": "stream",
     "text": [
      "+--------------------+\n",
      "|                  id|\n",
      "+--------------------+\n",
      "|       2nd at Folsom|\n",
      "|California Ave Ca...|\n",
      "|Washington at Kea...|\n",
      "+--------------------+\n",
      "only showing top 3 rows\n",
      "\n"
     ]
    }
   ],
   "source": [
    "stationvertices=station.withColumnRenamed(\"name\",\"id\").select(\"id\").distinct()\n",
    "stationvertices.show(3)"
   ]
  },
  {
   "cell_type": "code",
   "execution_count": 13,
   "metadata": {},
   "outputs": [
    {
     "name": "stdout",
     "output_type": "stream",
     "text": [
      "+--------------------+--------------------+-----+\n",
      "|                 src|                 dst|count|\n",
      "+--------------------+--------------------+-----+\n",
      "|       2nd at Folsom|San Francisco Cal...|  179|\n",
      "| Golden Gate at Polk|   Steuart at Market|   40|\n",
      "|Grant Avenue at C...|Mechanics Plaza (...|   32|\n",
      "+--------------------+--------------------+-----+\n",
      "only showing top 3 rows\n",
      "\n"
     ]
    }
   ],
   "source": [
    "tripedges=trip.withColumnRenamed(\"Start Station\",\"src\")\\\n",
    ".withColumnRenamed(\"End Station\",\"dst\")\\\n",
    ".select(\"src\",\"dst\").groupBy(\"src\",\"dst\").count()\n",
    "tripedges.show(3)"
   ]
  },
  {
   "cell_type": "code",
   "execution_count": 14,
   "metadata": {},
   "outputs": [],
   "source": [
    "g=GraphFrame(stationvertices,tripedges)"
   ]
  },
  {
   "cell_type": "code",
   "execution_count": 15,
   "metadata": {},
   "outputs": [
    {
     "data": {
      "text/plain": [
       "GraphFrame(v:[id: string], e:[src: string, dst: string ... 1 more field])"
      ]
     },
     "execution_count": 15,
     "metadata": {},
     "output_type": "execute_result"
    }
   ],
   "source": [
    "g"
   ]
  },
  {
   "cell_type": "code",
   "execution_count": 16,
   "metadata": {},
   "outputs": [
    {
     "name": "stdout",
     "output_type": "stream",
     "text": [
      "+--------------------+\n",
      "|                  id|\n",
      "+--------------------+\n",
      "|       2nd at Folsom|\n",
      "|California Ave Ca...|\n",
      "|Washington at Kea...|\n",
      "|Powell at Post (U...|\n",
      "| Golden Gate at Polk|\n",
      "|Yerba Buena Cente...|\n",
      "|   Market at Sansome|\n",
      "|         MLK Library|\n",
      "|     Spear at Folsom|\n",
      "|           Japantown|\n",
      "|Commercial at Mon...|\n",
      "|Paseo de San Antonio|\n",
      "| San Salvador at 1st|\n",
      "|Rengstorff Avenue...|\n",
      "|     Townsend at 7th|\n",
      "|Civic Center BART...|\n",
      "|         Ryland Park|\n",
      "|San Jose Diridon ...|\n",
      "|San Jose Civic Ce...|\n",
      "|     Post at Kearney|\n",
      "+--------------------+\n",
      "only showing top 20 rows\n",
      "\n"
     ]
    }
   ],
   "source": [
    "g.vertices.show()"
   ]
  },
  {
   "cell_type": "code",
   "execution_count": 17,
   "metadata": {},
   "outputs": [
    {
     "name": "stdout",
     "output_type": "stream",
     "text": [
      "+--------------------+--------------------+-----+\n",
      "|                 src|                 dst|count|\n",
      "+--------------------+--------------------+-----+\n",
      "|       2nd at Folsom|San Francisco Cal...|  179|\n",
      "| Golden Gate at Polk|   Steuart at Market|   40|\n",
      "|Grant Avenue at C...|Mechanics Plaza (...|   32|\n",
      "|Temporary Transba...|Harry Bridges Pla...|   49|\n",
      "|University and Em...|California Ave Ca...|   21|\n",
      "|Evelyn Park and Ride|Evelyn Park and Ride|   12|\n",
      "|   2nd at South Park|Yerba Buena Cente...|   16|\n",
      "|      Market at 10th|      Market at 10th|   50|\n",
      "|Grant Avenue at C...|Powell at Post (U...|   39|\n",
      "|      Market at 10th|     Clay at Battery|    3|\n",
      "|San Francisco Cal...|   Steuart at Market|  177|\n",
      "|     Clay at Battery|Mechanics Plaza (...|   12|\n",
      "|       2nd at Folsom|       Howard at 2nd|   18|\n",
      "|Broadway St at Ba...|   2nd at South Park|   10|\n",
      "|Embarcadero at Br...|    Davis at Jackson|   14|\n",
      "|Embarcadero at Va...|       Howard at 2nd|   12|\n",
      "|Commercial at Mon...|Mechanics Plaza (...|   36|\n",
      "|  Powell Street BART|Civic Center BART...|   37|\n",
      "|Powell at Post (U...|       2nd at Folsom|    2|\n",
      "|Harry Bridges Pla...|Grant Avenue at C...|   39|\n",
      "+--------------------+--------------------+-----+\n",
      "only showing top 20 rows\n",
      "\n"
     ]
    }
   ],
   "source": [
    "g.edges.show()"
   ]
  },
  {
   "cell_type": "code",
   "execution_count": 18,
   "metadata": {},
   "outputs": [
    {
     "name": "stdout",
     "output_type": "stream",
     "text": [
      "+--------------------+--------+\n",
      "|                  id|inDegree|\n",
      "+--------------------+--------+\n",
      "|       2nd at Folsom|      33|\n",
      "|California Ave Ca...|       8|\n",
      "|Powell at Post (U...|      35|\n",
      "| Golden Gate at Polk|      35|\n",
      "|Yerba Buena Cente...|      35|\n",
      "|   Market at Sansome|      35|\n",
      "|     Spear at Folsom|      35|\n",
      "|         MLK Library|      14|\n",
      "|           Japantown|      14|\n",
      "|Commercial at Mon...|      35|\n",
      "|Paseo de San Antonio|      15|\n",
      "|Rengstorff Avenue...|       8|\n",
      "| San Salvador at 1st|      13|\n",
      "|     Townsend at 7th|      35|\n",
      "|Civic Center BART...|      35|\n",
      "|         Ryland Park|      11|\n",
      "|San Jose Diridon ...|      16|\n",
      "|San Jose Civic Ce...|       8|\n",
      "|                null|       1|\n",
      "|          Mezes Park|       2|\n",
      "+--------------------+--------+\n",
      "only showing top 20 rows\n",
      "\n"
     ]
    }
   ],
   "source": [
    "g.inDegrees.show()"
   ]
  },
  {
   "cell_type": "code",
   "execution_count": 19,
   "metadata": {},
   "outputs": [
    {
     "name": "stdout",
     "output_type": "stream",
     "text": [
      "+--------------------+---------+\n",
      "|                  id|outDegree|\n",
      "+--------------------+---------+\n",
      "|       2nd at Folsom|       35|\n",
      "|California Ave Ca...|        7|\n",
      "|Powell at Post (U...|       35|\n",
      "| Golden Gate at Polk|       33|\n",
      "|Yerba Buena Cente...|       34|\n",
      "|   Market at Sansome|       35|\n",
      "|     Spear at Folsom|       35|\n",
      "|         MLK Library|       14|\n",
      "|           Japantown|       13|\n",
      "|Commercial at Mon...|       35|\n",
      "|Paseo de San Antonio|       14|\n",
      "| San Salvador at 1st|       10|\n",
      "|Rengstorff Avenue...|        9|\n",
      "|     Townsend at 7th|       35|\n",
      "|Civic Center BART...|       35|\n",
      "|         Ryland Park|        9|\n",
      "|San Jose Diridon ...|       16|\n",
      "|San Jose Civic Ce...|       12|\n",
      "|          Mezes Park|        4|\n",
      "|SJSU - San Salvad...|       13|\n",
      "+--------------------+---------+\n",
      "only showing top 20 rows\n",
      "\n"
     ]
    }
   ],
   "source": [
    "g.outDegrees.show()"
   ]
  },
  {
   "cell_type": "code",
   "execution_count": 20,
   "metadata": {},
   "outputs": [
    {
     "name": "stdout",
     "output_type": "stream",
     "text": [
      "+-----------------------------------------------+-----------------------------------------------------------------------------------------+-----------------------------------------------+\n",
      "|a                                              |e                                                                                        |b                                              |\n",
      "+-----------------------------------------------+-----------------------------------------------------------------------------------------+-----------------------------------------------+\n",
      "|[2nd at Folsom]                                |[2nd at Folsom, San Francisco Caltrain (Townsend at 4th), 179]                           |[San Francisco Caltrain (Townsend at 4th)]     |\n",
      "|[Golden Gate at Polk]                          |[Golden Gate at Polk, Steuart at Market, 40]                                             |[Steuart at Market]                            |\n",
      "|[Grant Avenue at Columbus Avenue]              |[Grant Avenue at Columbus Avenue, Mechanics Plaza (Market at Battery), 32]               |[Mechanics Plaza (Market at Battery)]          |\n",
      "|[Temporary Transbay Terminal (Howard at Beale)]|[Temporary Transbay Terminal (Howard at Beale), Harry Bridges Plaza (Ferry Building), 49]|[Harry Bridges Plaza (Ferry Building)]         |\n",
      "|[University and Emerson]                       |[University and Emerson, California Ave Caltrain Station, 21]                            |[California Ave Caltrain Station]              |\n",
      "|[Evelyn Park and Ride]                         |[Evelyn Park and Ride, Evelyn Park and Ride, 12]                                         |[Evelyn Park and Ride]                         |\n",
      "|[2nd at South Park]                            |[2nd at South Park, Yerba Buena Center of the Arts (3rd @ Howard), 16]                   |[Yerba Buena Center of the Arts (3rd @ Howard)]|\n",
      "|[Market at 10th]                               |[Market at 10th, Market at 10th, 50]                                                     |[Market at 10th]                               |\n",
      "|[Grant Avenue at Columbus Avenue]              |[Grant Avenue at Columbus Avenue, Powell at Post (Union Square), 39]                     |[Powell at Post (Union Square)]                |\n",
      "|[Market at 10th]                               |[Market at 10th, Clay at Battery, 3]                                                     |[Clay at Battery]                              |\n",
      "|[San Francisco Caltrain (Townsend at 4th)]     |[San Francisco Caltrain (Townsend at 4th), Steuart at Market, 177]                       |[Steuart at Market]                            |\n",
      "|[Clay at Battery]                              |[Clay at Battery, Mechanics Plaza (Market at Battery), 12]                               |[Mechanics Plaza (Market at Battery)]          |\n",
      "|[2nd at Folsom]                                |[2nd at Folsom, Howard at 2nd, 18]                                                       |[Howard at 2nd]                                |\n",
      "|[Broadway St at Battery St]                    |[Broadway St at Battery St, 2nd at South Park, 10]                                       |[2nd at South Park]                            |\n",
      "|[Embarcadero at Bryant]                        |[Embarcadero at Bryant, Davis at Jackson, 14]                                            |[Davis at Jackson]                             |\n",
      "|[Embarcadero at Vallejo]                       |[Embarcadero at Vallejo, Howard at 2nd, 12]                                              |[Howard at 2nd]                                |\n",
      "|[Commercial at Montgomery]                     |[Commercial at Montgomery, Mechanics Plaza (Market at Battery), 36]                      |[Mechanics Plaza (Market at Battery)]          |\n",
      "|[Powell Street BART]                           |[Powell Street BART, Civic Center BART (7th at Market), 37]                              |[Civic Center BART (7th at Market)]            |\n",
      "|[Powell at Post (Union Square)]                |[Powell at Post (Union Square), 2nd at Folsom, 2]                                        |[2nd at Folsom]                                |\n",
      "|[Harry Bridges Plaza (Ferry Building)]         |[Harry Bridges Plaza (Ferry Building), Grant Avenue at Columbus Avenue, 39]              |[Grant Avenue at Columbus Avenue]              |\n",
      "+-----------------------------------------------+-----------------------------------------------------------------------------------------+-----------------------------------------------+\n",
      "only showing top 20 rows\n",
      "\n"
     ]
    }
   ],
   "source": [
    "g.find(\"(a)-[e]->(b)\").show(truncate=False)"
   ]
  },
  {
   "cell_type": "code",
   "execution_count": 43,
   "metadata": {},
   "outputs": [
    {
     "name": "stdout",
     "output_type": "stream",
     "text": [
      "+--------------------+------+\n",
      "|                  id|degree|\n",
      "+--------------------+------+\n",
      "|       2nd at Folsom|    68|\n",
      "|California Ave Ca...|    15|\n",
      "|Powell at Post (U...|    70|\n",
      "| Golden Gate at Polk|    68|\n",
      "|Yerba Buena Cente...|    69|\n",
      "|   Market at Sansome|    70|\n",
      "|     Spear at Folsom|    70|\n",
      "|         MLK Library|    28|\n",
      "|           Japantown|    27|\n",
      "|Commercial at Mon...|    70|\n",
      "|Paseo de San Antonio|    29|\n",
      "| San Salvador at 1st|    23|\n",
      "|Rengstorff Avenue...|    17|\n",
      "|     Townsend at 7th|    70|\n",
      "|Civic Center BART...|    70|\n",
      "|         Ryland Park|    20|\n",
      "|San Jose Diridon ...|    32|\n",
      "|San Jose Civic Ce...|    20|\n",
      "|          Mezes Park|     6|\n",
      "|                null|     1|\n",
      "+--------------------+------+\n",
      "only showing top 20 rows\n",
      "\n"
     ]
    }
   ],
   "source": [
    "g.degrees.show()"
   ]
  },
  {
   "cell_type": "code",
   "execution_count": 34,
   "metadata": {},
   "outputs": [
    {
     "name": "stdout",
     "output_type": "stream",
     "text": [
      "+--------------------+--------+\n",
      "|                  id|inDegree|\n",
      "+--------------------+--------+\n",
      "|Mechanics Plaza (...|      35|\n",
      "|Harry Bridges Pla...|      35|\n",
      "|  Powell Street BART|      35|\n",
      "|      Market at 10th|      35|\n",
      "|       5th at Howard|      35|\n",
      "|   Steuart at Market|      35|\n",
      "|Washington at Kearny|      35|\n",
      "|Embarcadero at Fo...|      35|\n",
      "|     Clay at Battery|      35|\n",
      "|     Beale at Market|      35|\n",
      "|Commercial at Mon...|      35|\n",
      "| Golden Gate at Polk|      35|\n",
      "|     Spear at Folsom|      35|\n",
      "|     Townsend at 7th|      35|\n",
      "|   Market at Sansome|      35|\n",
      "|Civic Center BART...|      35|\n",
      "|Yerba Buena Cente...|      35|\n",
      "|       Market at 4th|      35|\n",
      "|Temporary Transba...|      35|\n",
      "|Powell at Post (U...|      35|\n",
      "+--------------------+--------+\n",
      "only showing top 20 rows\n",
      "\n"
     ]
    }
   ],
   "source": [
    "g.inDegrees.sort('inDegree',ascending=False).show()"
   ]
  },
  {
   "cell_type": "code",
   "execution_count": 46,
   "metadata": {},
   "outputs": [],
   "source": [
    "# import pyspark.sql.functions as col\n",
    "# g.inDegrees.join(g.outDegrees, g.inDegrees.select(\"id\") === g.outDegrees.select(\"id\"))\\\n",
    "#   .drop(g.outDegrees.select(\"id\"))\\\n",
    "#   .selectExpr(\"id\", \"double(inDegree)/double(outDegree) as degreeRatio\")"
   ]
  },
  {
   "cell_type": "code",
   "execution_count": null,
   "metadata": {},
   "outputs": [],
   "source": []
  }
 ],
 "metadata": {
  "kernelspec": {
   "display_name": "Python 3",
   "language": "python",
   "name": "python3"
  },
  "language_info": {
   "codemirror_mode": {
    "name": "ipython",
    "version": 3
   },
   "file_extension": ".py",
   "mimetype": "text/x-python",
   "name": "python",
   "nbconvert_exporter": "python",
   "pygments_lexer": "ipython3",
   "version": "3.6.8"
  }
 },
 "nbformat": 4,
 "nbformat_minor": 2
}
