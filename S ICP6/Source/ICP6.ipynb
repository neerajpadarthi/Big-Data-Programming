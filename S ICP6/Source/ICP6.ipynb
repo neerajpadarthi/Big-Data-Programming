{
 "cells": [
  {
   "cell_type": "code",
   "execution_count": 1,
   "metadata": {},
   "outputs": [],
   "source": [
    "# !pip install graphframes\n",
    "from pyspark import SparkContext,SQLContext\n",
    "from graphframes import *\n",
    "sc = SparkContext.getOrCreate()\n",
    "sc.addPyFile('/Users/neerajpadarthi/Neeraj/spark-2.3.0-bin-hadoop2.7/jars/graphframes-0.7.0-spark2.3-s_2.11.jar')\n",
    "sqlcontext=SQLContext(sc)"
   ]
  },
  {
   "cell_type": "code",
   "execution_count": 2,
   "metadata": {},
   "outputs": [],
   "source": [
    "station= sqlcontext.read.format(\"csv\").option(\"header\", \"true\").csv('201508_station_data.csv')\n",
    "trip= sqlcontext.read.format(\"csv\").option(\"header\", \"true\").csv('201508_trip_data.csv')"
   ]
  },
  {
   "cell_type": "code",
   "execution_count": 3,
   "metadata": {},
   "outputs": [
    {
     "name": "stdout",
     "output_type": "stream",
     "text": [
      "+----------+--------------------+---------+-----------+---------+------------+------------+\n",
      "|station_id|                name|      lat|       long|dockcount|    landmark|installation|\n",
      "+----------+--------------------+---------+-----------+---------+------------+------------+\n",
      "|         2|San Jose Diridon ...|37.329732|-121.901782|       27|    San Jose|    8/6/2013|\n",
      "|         3|San Jose Civic Ce...|37.330698|-121.888979|       15|    San Jose|    8/5/2013|\n",
      "|         4|Santa Clara at Al...|37.333988|-121.894902|       11|    San Jose|    8/6/2013|\n",
      "|         5|    Adobe on Almaden|37.331415|  -121.8932|       19|    San Jose|    8/5/2013|\n",
      "|         6|    San Pedro Square|37.336721|-121.894074|       15|    San Jose|    8/7/2013|\n",
      "|         7|Paseo de San Antonio|37.333798|-121.886943|       15|    San Jose|    8/7/2013|\n",
      "|         8| San Salvador at 1st|37.330165|-121.885831|       15|    San Jose|    8/5/2013|\n",
      "|         9|           Japantown|37.348742|-121.894715|       15|    San Jose|    8/5/2013|\n",
      "|        10|  San Jose City Hall|37.337391|-121.886995|       15|    San Jose|    8/6/2013|\n",
      "|        11|         MLK Library|37.335885| -121.88566|       19|    San Jose|    8/6/2013|\n",
      "|        12|SJSU 4th at San C...|37.332808|-121.883891|       19|    San Jose|    8/7/2013|\n",
      "|        13|       St James Park|37.339301|-121.889937|       15|    San Jose|    8/6/2013|\n",
      "|        14|Arena Green / SAP...|37.332692|-121.900084|       19|    San Jose|    8/5/2013|\n",
      "|        16|SJSU - San Salvad...|37.333955|-121.877349|       15|    San Jose|    8/7/2013|\n",
      "|        21|   Franklin at Maple|37.481758|-122.226904|       15|Redwood City|   8/12/2013|\n",
      "|        22|Redwood City Calt...|37.486078|-122.232089|       25|Redwood City|   8/15/2013|\n",
      "|        23|San Mateo County ...|37.487616|-122.229951|       15|Redwood City|   8/15/2013|\n",
      "|        24|Redwood City Publ...|37.484219|-122.227424|       15|Redwood City|   8/12/2013|\n",
      "|        25|Stanford in Redwo...| 37.48537|-122.203288|       15|Redwood City|   8/12/2013|\n",
      "|        26|Redwood City Medi...|37.487682|-122.223492|       15|Redwood City|   8/12/2013|\n",
      "+----------+--------------------+---------+-----------+---------+------------+------------+\n",
      "only showing top 20 rows\n",
      "\n"
     ]
    }
   ],
   "source": [
    "station.show()"
   ]
  },
  {
   "cell_type": "code",
   "execution_count": 4,
   "metadata": {},
   "outputs": [],
   "source": [
    "# station.printSchema"
   ]
  },
  {
   "cell_type": "code",
   "execution_count": 5,
   "metadata": {},
   "outputs": [
    {
     "name": "stdout",
     "output_type": "stream",
     "text": [
      "+-------+--------+---------------+--------------------+--------------+---------------+--------------------+------------+------+---------------+--------+\n",
      "|Trip ID|Duration|     Start Date|       Start Station|Start Terminal|       End Date|         End Station|End Terminal|Bike #|Subscriber Type|Zip Code|\n",
      "+-------+--------+---------------+--------------------+--------------+---------------+--------------------+------------+------+---------------+--------+\n",
      "| 913460|     765|8/31/2015 23:26|Harry Bridges Pla...|            50|8/31/2015 23:39|San Francisco Cal...|          70|   288|     Subscriber|    2139|\n",
      "| 913459|    1036|8/31/2015 23:11|San Antonio Shopp...|            31|8/31/2015 23:28|Mountain View Cit...|          27|    35|     Subscriber|   95032|\n",
      "| 913455|     307|8/31/2015 23:13|      Post at Kearny|            47|8/31/2015 23:18|   2nd at South Park|          64|   468|     Subscriber|   94107|\n",
      "| 913454|     409|8/31/2015 23:10|  San Jose City Hall|            10|8/31/2015 23:17| San Salvador at 1st|           8|    68|     Subscriber|   95113|\n",
      "| 913453|     789|8/31/2015 23:09|Embarcadero at Fo...|            51|8/31/2015 23:22|Embarcadero at Sa...|          60|   487|       Customer|    9069|\n",
      "| 913452|     293|8/31/2015 23:07|Yerba Buena Cente...|            68|8/31/2015 23:12|San Francisco Cal...|          70|   538|     Subscriber|   94118|\n",
      "| 913451|     896|8/31/2015 23:07|Embarcadero at Fo...|            51|8/31/2015 23:22|Embarcadero at Sa...|          60|   363|       Customer|   92562|\n",
      "| 913450|     255|8/31/2015 22:16|Embarcadero at Sa...|            60|8/31/2015 22:20|   Steuart at Market|          74|   470|     Subscriber|   94111|\n",
      "| 913449|     126|8/31/2015 22:12|     Beale at Market|            56|8/31/2015 22:15|Temporary Transba...|          55|   439|     Subscriber|   94130|\n",
      "| 913448|     932|8/31/2015 21:57|      Post at Kearny|            47|8/31/2015 22:12|South Van Ness at...|          66|   472|     Subscriber|   94702|\n",
      "| 913443|     691|8/31/2015 21:49|Embarcadero at Sa...|            60|8/31/2015 22:01|   Market at Sansome|          77|   434|     Subscriber|   94109|\n",
      "| 913442|     633|8/31/2015 21:44|      Market at 10th|            67|8/31/2015 21:54|San Francisco Cal...|          70|   531|     Subscriber|   94107|\n",
      "| 913441|     387|8/31/2015 21:39|       Market at 4th|            76|8/31/2015 21:46|Grant Avenue at C...|          73|   383|     Subscriber|   94104|\n",
      "| 913440|     281|8/31/2015 21:31|   Market at Sansome|            77|8/31/2015 21:36|Broadway St at Ba...|          82|   621|     Subscriber|   94107|\n",
      "| 913435|     424|8/31/2015 21:25|Temporary Transba...|            55|8/31/2015 21:33|San Francisco Cal...|          69|   602|     Subscriber|   94401|\n",
      "| 913434|     283|8/31/2015 21:19|San Francisco Cal...|            69|8/31/2015 21:24|     Townsend at 7th|          65|   521|     Subscriber|   94107|\n",
      "| 913433|     145|8/31/2015 21:17|University and Em...|            35|8/31/2015 21:20|Cowper at University|          37|    75|       Customer|    6907|\n",
      "| 913432|     703|8/31/2015 21:16|     Spear at Folsom|            49|8/31/2015 21:28|San Francisco Cal...|          69|   426|     Subscriber|   95032|\n",
      "| 913431|     605|8/31/2015 21:11|Temporary Transba...|            55|8/31/2015 21:21|Grant Avenue at C...|          73|   572|     Subscriber|   94133|\n",
      "| 913429|     902|8/31/2015 21:07|San Francisco Cal...|            70|8/31/2015 21:22|Broadway St at Ba...|          82|   501|     Subscriber|   94133|\n",
      "+-------+--------+---------------+--------------------+--------------+---------------+--------------------+------------+------+---------------+--------+\n",
      "only showing top 20 rows\n",
      "\n"
     ]
    }
   ],
   "source": [
    "trip.show()"
   ]
  },
  {
   "cell_type": "code",
   "execution_count": 6,
   "metadata": {},
   "outputs": [],
   "source": [
    "# station"
   ]
  },
  {
   "cell_type": "code",
   "execution_count": null,
   "metadata": {},
   "outputs": [],
   "source": []
  },
  {
   "cell_type": "code",
   "execution_count": 7,
   "metadata": {},
   "outputs": [
    {
     "name": "stdout",
     "output_type": "stream",
     "text": [
      "+--------------------+\n",
      "|                  id|\n",
      "+--------------------+\n",
      "|       2nd at Folsom|\n",
      "|California Ave Ca...|\n",
      "|Washington at Kea...|\n",
      "+--------------------+\n",
      "only showing top 3 rows\n",
      "\n"
     ]
    }
   ],
   "source": [
    "stationvertices=station.withColumnRenamed(\"name\",\"id\").select(\"id\").distinct()\n",
    "stationvertices.show(3)"
   ]
  },
  {
   "cell_type": "code",
   "execution_count": 8,
   "metadata": {},
   "outputs": [
    {
     "name": "stdout",
     "output_type": "stream",
     "text": [
      "+--------------------+--------------------+-----+\n",
      "|                 src|                 dst|count|\n",
      "+--------------------+--------------------+-----+\n",
      "|       2nd at Folsom|San Francisco Cal...|  179|\n",
      "| Golden Gate at Polk|   Steuart at Market|   40|\n",
      "|Grant Avenue at C...|Mechanics Plaza (...|   32|\n",
      "+--------------------+--------------------+-----+\n",
      "only showing top 3 rows\n",
      "\n"
     ]
    }
   ],
   "source": [
    "tripedges=trip.withColumnRenamed(\"Start Station\",\"src\")\\\n",
    ".withColumnRenamed(\"End Station\",\"dst\")\\\n",
    ".select(\"src\",\"dst\").groupBy(\"src\",\"dst\").count()\n",
    "tripedges.show(3)"
   ]
  },
  {
   "cell_type": "code",
   "execution_count": 9,
   "metadata": {},
   "outputs": [],
   "source": [
    "g=GraphFrame(stationvertices,tripedges)"
   ]
  },
  {
   "cell_type": "code",
   "execution_count": 10,
   "metadata": {},
   "outputs": [
    {
     "data": {
      "text/plain": [
       "GraphFrame(v:[id: string], e:[src: string, dst: string ... 1 more field])"
      ]
     },
     "execution_count": 10,
     "metadata": {},
     "output_type": "execute_result"
    }
   ],
   "source": [
    "g"
   ]
  },
  {
   "cell_type": "code",
   "execution_count": 36,
   "metadata": {},
   "outputs": [
    {
     "name": "stdout",
     "output_type": "stream",
     "text": [
      "+-----+--------------------+\n",
      "|count|                  id|\n",
      "+-----+--------------------+\n",
      "|  496|       2nd at Folsom|\n",
      "|   23|California Ave Ca...|\n",
      "|    0|Washington at Kea...|\n",
      "|  496|Powell at Post (U...|\n",
      "|  496| Golden Gate at Polk|\n",
      "|  496|Yerba Buena Cente...|\n",
      "|  496|   Market at Sansome|\n",
      "|   90|         MLK Library|\n",
      "|  496|     Spear at Folsom|\n",
      "|   77|           Japantown|\n",
      "|  496|Commercial at Mon...|\n",
      "|   81|Paseo de San Antonio|\n",
      "|   23|Rengstorff Avenue...|\n",
      "|   61| San Salvador at 1st|\n",
      "|  496|     Townsend at 7th|\n",
      "|  496|Civic Center BART...|\n",
      "|   41|         Ryland Park|\n",
      "|   90|San Jose Diridon ...|\n",
      "|   63|San Jose Civic Ce...|\n",
      "|    0|     Post at Kearney|\n",
      "+-----+--------------------+\n",
      "only showing top 20 rows\n",
      "\n"
     ]
    }
   ],
   "source": [
    "g.triangleCount().show()"
   ]
  },
  {
   "cell_type": "code",
   "execution_count": 39,
   "metadata": {},
   "outputs": [
    {
     "name": "stdout",
     "output_type": "stream",
     "text": [
      "+--------------------+--------------------+\n",
      "|                  id|           distances|\n",
      "+--------------------+--------------------+\n",
      "|       2nd at Folsom|[2nd at Folsom -> 0]|\n",
      "|      Market at 10th|[2nd at Folsom -> 1]|\n",
      "|California Ave Ca...|                  []|\n",
      "|Washington at Kea...|                  []|\n",
      "|Redwood City Publ...|                  []|\n",
      "|Powell at Post (U...|[2nd at Folsom -> 1]|\n",
      "| Golden Gate at Polk|[2nd at Folsom -> 2]|\n",
      "|    Adobe on Almaden|    [Japantown -> 2]|\n",
      "|Broadway St at Ba...|[2nd at Folsom -> 1]|\n",
      "|Yerba Buena Cente...|[2nd at Folsom -> 1]|\n",
      "|     Beale at Market|[2nd at Folsom -> 1]|\n",
      "|   Market at Sansome|[2nd at Folsom -> 1]|\n",
      "|         MLK Library|    [Japantown -> 1]|\n",
      "|     Spear at Folsom|[2nd at Folsom -> 1]|\n",
      "|       5th at Howard|[2nd at Folsom -> 1]|\n",
      "|           Japantown|    [Japantown -> 0]|\n",
      "|Commercial at Mon...|[2nd at Folsom -> 1]|\n",
      "|    San Pedro Square|    [Japantown -> 1]|\n",
      "|Paseo de San Antonio|    [Japantown -> 1]|\n",
      "|Redwood City Medi...|                  []|\n",
      "+--------------------+--------------------+\n",
      "only showing top 20 rows\n",
      "\n"
     ]
    }
   ],
   "source": [
    "g.shortestPaths(landmarks=[\"2nd at Folsom\", \"Japantown\"]).show()"
   ]
  },
  {
   "cell_type": "code",
   "execution_count": 40,
   "metadata": {},
   "outputs": [
    {
     "name": "stdout",
     "output_type": "stream",
     "text": [
      "+--------------------+-------------------+\n",
      "|                  id|           pagerank|\n",
      "+--------------------+-------------------+\n",
      "|       2nd at Folsom| 0.9824888917828893|\n",
      "|      Market at 10th|  1.038130411138078|\n",
      "|California Ave Ca...| 1.1172141560493858|\n",
      "|Washington at Kea...|0.16391984022625658|\n",
      "|Redwood City Publ...| 0.6728086774388867|\n",
      "|Powell at Post (U...| 1.0381304111380778|\n",
      "| Golden Gate at Polk| 1.0381304111380778|\n",
      "|    Adobe on Almaden| 0.9037422230312734|\n",
      "|Broadway St at Ba...| 1.0115490961700713|\n",
      "|Yerba Buena Cente...|  1.038130411138078|\n",
      "|     Beale at Market|  1.038130411138078|\n",
      "|   Market at Sansome|  1.038130411138078|\n",
      "|         MLK Library| 1.0850875307932695|\n",
      "|     Spear at Folsom|  1.038130411138078|\n",
      "|       5th at Howard|  1.038130411138078|\n",
      "|           Japantown| 1.1277529076126742|\n",
      "|Commercial at Mon...|  1.038130411138078|\n",
      "|    San Pedro Square|  1.262557303509268|\n",
      "|Paseo de San Antonio| 1.1971448900978932|\n",
      "|Redwood City Medi...|0.40228085743593783|\n",
      "+--------------------+-------------------+\n",
      "only showing top 20 rows\n",
      "\n",
      "+--------------------+--------------------+--------------------+\n",
      "|                 src|                 dst|              weight|\n",
      "+--------------------+--------------------+--------------------+\n",
      "|       2nd at Folsom|San Francisco Cal...|0.030303030303030304|\n",
      "|   Market at Sansome|       Market at 4th|0.030303030303030304|\n",
      "|     Spear at Folsom|    Davis at Jackson|0.030303030303030304|\n",
      "|Commercial at Mon...|Embarcadero at Br...|0.030303030303030304|\n",
      "|     Townsend at 7th|San Francisco Cal...|0.030303030303030304|\n",
      "|          Mezes Park|          Mezes Park|                0.25|\n",
      "|       5th at Howard|Grant Avenue at C...|0.030303030303030304|\n",
      "|San Francisco Cal...|Embarcadero at Sa...|0.030303030303030304|\n",
      "|     Townsend at 7th|       Howard at 2nd|0.030303030303030304|\n",
      "|SJSU - San Salvad...|SJSU - San Salvad...| 0.07692307692307693|\n",
      "|Embarcadero at Sa...|Temporary Transba...|0.030303030303030304|\n",
      "|San Francisco Cal...|  Powell Street BART|0.030303030303030304|\n",
      "|   2nd at South Park|   Market at Sansome|0.030303030303030304|\n",
      "|San Francisco Cal...|  Powell Street BART|0.030303030303030304|\n",
      "|       St James Park|San Jose Diridon ...| 0.08333333333333333|\n",
      "|         MLK Library|San Jose Civic Ce...| 0.07142857142857142|\n",
      "|San Antonio Caltr...|Mountain View Cit...|                 0.1|\n",
      "|Mountain View Cal...|San Antonio Caltr...|  0.1111111111111111|\n",
      "|Harry Bridges Pla...|     2nd at Townsend|0.030303030303030304|\n",
      "|Civic Center BART...|     Clay at Battery|0.030303030303030304|\n",
      "+--------------------+--------------------+--------------------+\n",
      "only showing top 20 rows\n",
      "\n"
     ]
    }
   ],
   "source": [
    "results = g.pageRank(resetProbability=0.15, tol=0.01)\n",
    "results.vertices.select(\"id\", \"pagerank\").show()\n",
    "results.edges.select(\"src\", \"dst\", \"weight\").show()"
   ]
  },
  {
   "cell_type": "code",
   "execution_count": 41,
   "metadata": {},
   "outputs": [],
   "source": [
    "g.vertices.write.parquet('vertices')"
   ]
  },
  {
   "cell_type": "code",
   "execution_count": 42,
   "metadata": {},
   "outputs": [],
   "source": [
    "g.edges.write.parquet('edges')"
   ]
  },
  {
   "cell_type": "code",
   "execution_count": null,
   "metadata": {},
   "outputs": [],
   "source": []
  },
  {
   "cell_type": "code",
   "execution_count": 43,
   "metadata": {},
   "outputs": [
    {
     "name": "stdout",
     "output_type": "stream",
     "text": [
      "+--------------------+-------------+\n",
      "|                  id|        label|\n",
      "+--------------------+-------------+\n",
      "|       2nd at Folsom|            0|\n",
      "|      Market at 10th|            0|\n",
      "|California Ave Ca...|1649267441664|\n",
      "|Washington at Kea...|  17179869184|\n",
      "|Redwood City Publ...| 730144440320|\n",
      "|Powell at Post (U...|            0|\n",
      "| Golden Gate at Polk|            0|\n",
      "|    Adobe on Almaden| 257698037761|\n",
      "|Broadway St at Ba...|            0|\n",
      "|Yerba Buena Cente...|            0|\n",
      "|     Beale at Market|            0|\n",
      "|   Market at Sansome|            0|\n",
      "|         MLK Library| 257698037761|\n",
      "|     Spear at Folsom|            0|\n",
      "|       5th at Howard|            0|\n",
      "|           Japantown| 257698037761|\n",
      "|Commercial at Mon...|            0|\n",
      "|    San Pedro Square| 257698037761|\n",
      "|Paseo de San Antonio| 257698037761|\n",
      "|Redwood City Medi...| 730144440320|\n",
      "+--------------------+-------------+\n",
      "only showing top 20 rows\n",
      "\n"
     ]
    }
   ],
   "source": [
    "result = g.labelPropagation(maxIter=5)\n",
    "result.select(\"id\", \"label\").show()"
   ]
  },
  {
   "cell_type": "code",
   "execution_count": 12,
   "metadata": {},
   "outputs": [
    {
     "name": "stdout",
     "output_type": "stream",
     "text": [
      "+-----------+--------------------+-------------+\n",
      "|       from|                  e0|           to|\n",
      "+-----------+--------------------+-------------+\n",
      "|[Japantown]|[Japantown, MLK L...|[MLK Library]|\n",
      "+-----------+--------------------+-------------+\n",
      "\n"
     ]
    }
   ],
   "source": [
    "paths = g.bfs(\"id = 'Japantown'\", \"id = 'MLK Library'\")\n",
    "paths.show()"
   ]
  },
  {
   "cell_type": "code",
   "execution_count": null,
   "metadata": {},
   "outputs": [],
   "source": []
  }
 ],
 "metadata": {
  "kernelspec": {
   "display_name": "Python 3",
   "language": "python",
   "name": "python3"
  },
  "language_info": {
   "codemirror_mode": {
    "name": "ipython",
    "version": 3
   },
   "file_extension": ".py",
   "mimetype": "text/x-python",
   "name": "python",
   "nbconvert_exporter": "python",
   "pygments_lexer": "ipython3",
   "version": "3.6.8"
  }
 },
 "nbformat": 4,
 "nbformat_minor": 2
}
