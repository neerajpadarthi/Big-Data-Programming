{
 "cells": [
  {
   "cell_type": "code",
   "execution_count": null,
   "metadata": {},
   "outputs": [],
   "source": [
    "from random import randint\n",
    "import time\n",
    "\n",
    "\"\"\"\n",
    "This is use for create 30 file one by one in each 5 seconds interval. \n",
    "These files will store content dynamically from 'lorem.txt' using below code\n",
    "\"\"\"\n",
    "\n",
    "\n",
    "def main():\n",
    "    a = 1\n",
    "    with open('lorem.txt', 'r') as file:  # reading content from 'lorem.txt' file\n",
    "        lines = file.readlines()\n",
    "        while a <= 30:\n",
    "            totalline = len(lines)\n",
    "            linenumber = randint(0, totalline - 10)\n",
    "            with open('log/log{}.txt'.format(a), 'w') as writefile:\n",
    "                writefile.write(' '.join(line for line in lines[linenumber:totalline]))\n",
    "            print('creating file log{}.txt'.format(a))\n",
    "            a += 1\n",
    "            time.sleep(15)\n",
    "\n",
    "\n",
    "if __name__ == '__main__':\n",
    "    main()"
   ]
  },
  {
   "cell_type": "code",
   "execution_count": null,
   "metadata": {},
   "outputs": [],
   "source": []
  },
  {
   "cell_type": "code",
   "execution_count": null,
   "metadata": {},
   "outputs": [],
   "source": []
  },
  {
   "cell_type": "code",
   "execution_count": null,
   "metadata": {},
   "outputs": [],
   "source": []
  }
 ],
 "metadata": {
  "kernelspec": {
   "display_name": "Python 3",
   "language": "python",
   "name": "python3"
  },
  "language_info": {
   "codemirror_mode": {
    "name": "ipython",
    "version": 3
   },
   "file_extension": ".py",
   "mimetype": "text/x-python",
   "name": "python",
   "nbconvert_exporter": "python",
   "pygments_lexer": "ipython3",
   "version": "3.6.8"
  }
 },
 "nbformat": 4,
 "nbformat_minor": 2
}
